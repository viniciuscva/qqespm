{
 "cells": [
  {
   "cell_type": "code",
   "execution_count": 33,
   "id": "7c776c99-3c05-4260-b57d-dcd76a6b0605",
   "metadata": {},
   "outputs": [],
   "source": [
    "import qqespm_module as qq\n",
    "import qqsimple_module as qs\n",
    "import pandas as pd\n",
    "import numpy as np\n",
    "import geopandas\n",
    "from geoobject import GeoObj\n",
    "from ilquadtree import ILQuadTree\n",
    "import random\n",
    "from func_timeout import func_timeout, FunctionTimedOut\n",
    "from copy import deepcopy\n",
    "from copy import deepcopy\n",
    "from time import time"
   ]
  },
  {
   "cell_type": "code",
   "execution_count": 3,
   "id": "b7db5c40-fa49-45a2-9f46-32fa6d4c796c",
   "metadata": {},
   "outputs": [
    {
     "name": "stdout",
     "output_type": "stream",
     "text": [
      "Total most frequent keywords: 66\n",
      "(40410, 6)\n"
     ]
    },
    {
     "data": {
      "text/html": [
       "<div>\n",
       "<style scoped>\n",
       "    .dataframe tbody tr th:only-of-type {\n",
       "        vertical-align: middle;\n",
       "    }\n",
       "\n",
       "    .dataframe tbody tr th {\n",
       "        vertical-align: top;\n",
       "    }\n",
       "\n",
       "    .dataframe thead th {\n",
       "        text-align: right;\n",
       "    }\n",
       "</style>\n",
       "<table border=\"1\" class=\"dataframe\">\n",
       "  <thead>\n",
       "    <tr style=\"text-align: right;\">\n",
       "      <th></th>\n",
       "      <th>osm_id</th>\n",
       "      <th>geometry</th>\n",
       "      <th>name</th>\n",
       "      <th>amenity</th>\n",
       "      <th>shop</th>\n",
       "      <th>tourism</th>\n",
       "    </tr>\n",
       "  </thead>\n",
       "  <tbody>\n",
       "    <tr>\n",
       "      <th>0</th>\n",
       "      <td>4843736221</td>\n",
       "      <td>POINT (-35.23422 -5.89278)</td>\n",
       "      <td>Super coop</td>\n",
       "      <td>NaN</td>\n",
       "      <td>supermarket</td>\n",
       "      <td>NaN</td>\n",
       "    </tr>\n",
       "    <tr>\n",
       "      <th>1</th>\n",
       "      <td>10861346942</td>\n",
       "      <td>POINT (-35.42379 -5.63600)</td>\n",
       "      <td>NaN</td>\n",
       "      <td>NaN</td>\n",
       "      <td>clothes</td>\n",
       "      <td>NaN</td>\n",
       "    </tr>\n",
       "    <tr>\n",
       "      <th>2</th>\n",
       "      <td>477221805</td>\n",
       "      <td>POLYGON ((-36.70129 -8.19197, -36.70100 -8.192...</td>\n",
       "      <td>NaN</td>\n",
       "      <td>parking</td>\n",
       "      <td>NaN</td>\n",
       "      <td>NaN</td>\n",
       "    </tr>\n",
       "    <tr>\n",
       "      <th>3</th>\n",
       "      <td>9298135216</td>\n",
       "      <td>POINT (-34.87934 -8.06423)</td>\n",
       "      <td>Esposende</td>\n",
       "      <td>NaN</td>\n",
       "      <td>shoes</td>\n",
       "      <td>NaN</td>\n",
       "    </tr>\n",
       "    <tr>\n",
       "      <th>4</th>\n",
       "      <td>737434871</td>\n",
       "      <td>POLYGON ((-34.97234 -8.13835, -34.97207 -8.138...</td>\n",
       "      <td>Primeira Igreja Batista</td>\n",
       "      <td>place_of_worship</td>\n",
       "      <td>NaN</td>\n",
       "      <td>NaN</td>\n",
       "    </tr>\n",
       "  </tbody>\n",
       "</table>\n",
       "</div>"
      ],
      "text/plain": [
       "        osm_id                                           geometry  \\\n",
       "0   4843736221                         POINT (-35.23422 -5.89278)   \n",
       "1  10861346942                         POINT (-35.42379 -5.63600)   \n",
       "2    477221805  POLYGON ((-36.70129 -8.19197, -36.70100 -8.192...   \n",
       "3   9298135216                         POINT (-34.87934 -8.06423)   \n",
       "4    737434871  POLYGON ((-34.97234 -8.13835, -34.97207 -8.138...   \n",
       "\n",
       "                      name           amenity         shop tourism  \n",
       "0               Super coop               NaN  supermarket     NaN  \n",
       "1                      NaN               NaN      clothes     NaN  \n",
       "2                      NaN           parking          NaN     NaN  \n",
       "3                Esposende               NaN        shoes     NaN  \n",
       "4  Primeira Igreja Batista  place_of_worship          NaN     NaN  "
      ]
     },
     "execution_count": 3,
     "metadata": {},
     "output_type": "execute_result"
    }
   ],
   "source": [
    "def read_df_csv(data_dir = 'data/pois_paraiba_OSM.csv'):\n",
    "    pois = pd.read_csv(data_dir,  low_memory=False)\n",
    "    pois['geometry'] = geopandas.GeoSeries.from_wkt(pois['geometry'])\n",
    "    return pois\n",
    "\n",
    "def get_df_surrounding_bbox(pois, delta = 0.01):\n",
    "    lons_lats = np.vstack([np.array(t) for t in pois['geometry'].apply(lambda e: e.centroid).apply(lambda e: e.coords[0]).values])\n",
    "    pois['lon'], pois['lat'] = lons_lats[:, 0], lons_lats[:, 1]\n",
    "    surrounding_bbox = (pois['lon'].min()-delta, pois['lat'].min()-delta, pois['lon'].max()+delta, pois['lat'].max()+delta)\n",
    "    pois.drop(['lon','lat'], axis = 1, inplace = True)\n",
    "    return surrounding_bbox\n",
    "\n",
    "pois = read_df_csv()\n",
    "\n",
    "amenity_totals = pois.amenity.value_counts()\n",
    "shop_totals = pois.shop.value_counts()\n",
    "tourism_totals = pois.tourism.value_counts()\n",
    "\n",
    "\n",
    "most_frequent_keywords = amenity_totals[amenity_totals>100].index.tolist() + \\\n",
    "    shop_totals[shop_totals>100].index.tolist() + \\\n",
    "    tourism_totals[tourism_totals>100].index.tolist()\n",
    "\n",
    "print('Total most frequent keywords:', len(most_frequent_keywords))\n",
    "\n",
    "print(pois.shape)\n",
    "pois.head()"
   ]
  },
  {
   "cell_type": "code",
   "execution_count": 4,
   "id": "e9e5dcf3-dc79-48e9-845f-37ea8a4985bc",
   "metadata": {},
   "outputs": [],
   "source": [
    "# PARAIBA: -5.9275, -8.3610, -34.7415, -38.8559,\n",
    "# AROUND PARAIBA: -41.418, -9.254, -32.794, -4.544, "
   ]
  },
  {
   "cell_type": "code",
   "execution_count": 9,
   "id": "eb58dbe1-8a7f-46fb-9182-4604fe7f6959",
   "metadata": {},
   "outputs": [
    {
     "data": {
      "text/plain": [
       "(-41.427930599999996,\n",
       " -9.263716199850455,\n",
       " -34.783308600000005,\n",
       " -4.534062599689478)"
      ]
     },
     "execution_count": 9,
     "metadata": {},
     "output_type": "execute_result"
    }
   ],
   "source": [
    "total_bbox = get_df_surrounding_bbox(pois)\n",
    "total_bbox"
   ]
  },
  {
   "cell_type": "code",
   "execution_count": 10,
   "id": "8f35cc69-7a4a-4578-a994-e98b6a3d4ad8",
   "metadata": {},
   "outputs": [],
   "source": [
    "def generate_ilquadtree(pois, total_bbox_ilq, max_depth = 3, keyword_columns = ['amenity','shop','tourism'], insertion_fraction = 1.0):\n",
    "    objs = GeoObj.get_objects_from_geopandas(pois, keyword_columns = keyword_columns)\n",
    "    ilq = ILQuadTree(total_bbox = total_bbox_ilq, max_depth = max_depth)\n",
    "    ilq.insert_elements_from_list(objs[0: int(insertion_fraction*len(objs))+1])\n",
    "    return ilq"
   ]
  },
  {
   "cell_type": "code",
   "execution_count": 19,
   "id": "9adc27aa-f4a9-4814-b88f-3a6aaa3f3697",
   "metadata": {},
   "outputs": [
    {
     "name": "stdout",
     "output_type": "stream",
     "text": [
      "Tamanho do dataset: (40410, 9)\n"
     ]
    },
    {
     "data": {
      "text/html": [
       "<div>\n",
       "<style scoped>\n",
       "    .dataframe tbody tr th:only-of-type {\n",
       "        vertical-align: middle;\n",
       "    }\n",
       "\n",
       "    .dataframe tbody tr th {\n",
       "        vertical-align: top;\n",
       "    }\n",
       "\n",
       "    .dataframe thead th {\n",
       "        text-align: right;\n",
       "    }\n",
       "</style>\n",
       "<table border=\"1\" class=\"dataframe\">\n",
       "  <thead>\n",
       "    <tr style=\"text-align: right;\">\n",
       "      <th></th>\n",
       "      <th>osm_id</th>\n",
       "      <th>geometry</th>\n",
       "      <th>name</th>\n",
       "      <th>amenity</th>\n",
       "      <th>shop</th>\n",
       "      <th>tourism</th>\n",
       "      <th>centroid</th>\n",
       "      <th>lon</th>\n",
       "      <th>lat</th>\n",
       "    </tr>\n",
       "  </thead>\n",
       "  <tbody>\n",
       "    <tr>\n",
       "      <th>36767</th>\n",
       "      <td>6416487776</td>\n",
       "      <td>POINT (-38.12966 -5.24872)</td>\n",
       "      <td>Unopar</td>\n",
       "      <td>university</td>\n",
       "      <td>NaN</td>\n",
       "      <td>NaN</td>\n",
       "      <td>POINT (-38.1296614 -5.248719599680504)</td>\n",
       "      <td>-38.129661</td>\n",
       "      <td>-5.248720</td>\n",
       "    </tr>\n",
       "    <tr>\n",
       "      <th>24058</th>\n",
       "      <td>197031934</td>\n",
       "      <td>POLYGON ((-35.87057 -7.22764, -35.86892 -7.228...</td>\n",
       "      <td>Hospital Doutor Edgley</td>\n",
       "      <td>hospital</td>\n",
       "      <td>NaN</td>\n",
       "      <td>NaN</td>\n",
       "      <td>POINT (-35.86939118737756 -7.227615786319496)</td>\n",
       "      <td>-35.869391</td>\n",
       "      <td>-7.227616</td>\n",
       "    </tr>\n",
       "    <tr>\n",
       "      <th>22050</th>\n",
       "      <td>201658167</td>\n",
       "      <td>POLYGON ((-37.06333 -6.44977, -37.06251 -6.450...</td>\n",
       "      <td>Cê Ky Sabe Motel</td>\n",
       "      <td>NaN</td>\n",
       "      <td>NaN</td>\n",
       "      <td>motel</td>\n",
       "      <td>POINT (-37.062748642753164 -6.449747662403363)</td>\n",
       "      <td>-37.062749</td>\n",
       "      <td>-6.449748</td>\n",
       "    </tr>\n",
       "    <tr>\n",
       "      <th>21109</th>\n",
       "      <td>6509662600</td>\n",
       "      <td>POINT (-35.27478 -7.40743)</td>\n",
       "      <td>Prefeitura Municipal de Camutanga</td>\n",
       "      <td>townhall</td>\n",
       "      <td>NaN</td>\n",
       "      <td>NaN</td>\n",
       "      <td>POINT (-35.2747809 -7.407434099728714)</td>\n",
       "      <td>-35.274781</td>\n",
       "      <td>-7.407434</td>\n",
       "    </tr>\n",
       "    <tr>\n",
       "      <th>39734</th>\n",
       "      <td>8409699909</td>\n",
       "      <td>POINT (-34.92145 -8.05074)</td>\n",
       "      <td>NaN</td>\n",
       "      <td>vending_machine</td>\n",
       "      <td>NaN</td>\n",
       "      <td>NaN</td>\n",
       "      <td>POINT (-34.921453299999996 -8.05074029976375)</td>\n",
       "      <td>-34.921453</td>\n",
       "      <td>-8.050740</td>\n",
       "    </tr>\n",
       "  </tbody>\n",
       "</table>\n",
       "</div>"
      ],
      "text/plain": [
       "           osm_id                                           geometry  \\\n",
       "36767  6416487776                         POINT (-38.12966 -5.24872)   \n",
       "24058   197031934  POLYGON ((-35.87057 -7.22764, -35.86892 -7.228...   \n",
       "22050   201658167  POLYGON ((-37.06333 -6.44977, -37.06251 -6.450...   \n",
       "21109  6509662600                         POINT (-35.27478 -7.40743)   \n",
       "39734  8409699909                         POINT (-34.92145 -8.05074)   \n",
       "\n",
       "                                    name          amenity shop tourism  \\\n",
       "36767                             Unopar       university  NaN     NaN   \n",
       "24058             Hospital Doutor Edgley         hospital  NaN     NaN   \n",
       "22050                   Cê Ky Sabe Motel              NaN  NaN   motel   \n",
       "21109  Prefeitura Municipal de Camutanga         townhall  NaN     NaN   \n",
       "39734                                NaN  vending_machine  NaN     NaN   \n",
       "\n",
       "                                             centroid        lon       lat  \n",
       "36767          POINT (-38.1296614 -5.248719599680504) -38.129661 -5.248720  \n",
       "24058   POINT (-35.86939118737756 -7.227615786319496) -35.869391 -7.227616  \n",
       "22050  POINT (-37.062748642753164 -6.449747662403363) -37.062749 -6.449748  \n",
       "21109          POINT (-35.2747809 -7.407434099728714) -35.274781 -7.407434  \n",
       "39734   POINT (-34.921453299999996 -8.05074029976375) -34.921453 -8.050740  "
      ]
     },
     "execution_count": 19,
     "metadata": {},
     "output_type": "execute_result"
    }
   ],
   "source": [
    "#pois['geometry'] = geopandas.GeoSeries.from_wkt(pois['geometry'])\n",
    "def get_centroid(geom):\n",
    "    if geom.geom_type == 'Point':\n",
    "        return geom\n",
    "    return geom.centroid\n",
    "pois['centroid'] = pois['geometry'].apply(get_centroid)\n",
    "pois['lon'] = pois['geometry'].apply(get_centroid).apply(lambda e: e.x) # longitudes\n",
    "pois['lat'] = pois['geometry'].apply(get_centroid).apply(lambda e: e.y) # latitudes\n",
    "pois.sort_values(by = 'lon', inplace = True)\n",
    "pois = pois.sample(frac=1)\n",
    "#pois.fillna('', inplace = True)\n",
    "print('Tamanho do dataset:', pois.shape)\n",
    "pois.head()"
   ]
  },
  {
   "cell_type": "code",
   "execution_count": 11,
   "id": "15e50a66-8c39-4b09-86cf-e83c4e59984b",
   "metadata": {},
   "outputs": [],
   "source": [
    "pois.loc[pois['geometry'].apply(lambda e: e.geom_type) == 'LineString', 'geometry'] = pois.loc[pois['geometry'].apply(lambda e: e.geom_type) == 'LineString', 'geometry'].apply(lambda e: e.centroid)"
   ]
  },
  {
   "cell_type": "code",
   "execution_count": 12,
   "id": "ed6724c1-8bd4-4ed7-a57d-e459a5855dcd",
   "metadata": {},
   "outputs": [
    {
     "data": {
      "text/plain": [
       "343"
      ]
     },
     "execution_count": 12,
     "metadata": {},
     "output_type": "execute_result"
    }
   ],
   "source": [
    "distinct_keywords = pois.amenity.value_counts().index.tolist() + pois.shop.value_counts().index.tolist() + pois.tourism.value_counts().index.tolist()\n",
    "len(distinct_keywords)"
   ]
  },
  {
   "cell_type": "code",
   "execution_count": 13,
   "id": "f1abe69a-d4c0-4e5d-9df2-2a4a70489d0f",
   "metadata": {},
   "outputs": [
    {
     "data": {
      "text/plain": [
       "40604"
      ]
     },
     "execution_count": 13,
     "metadata": {},
     "output_type": "execute_result"
    }
   ],
   "source": [
    "total_keywords = (pois.shape[0] - pois['amenity'].isna().sum()) + (pois.shape[0] - pois['shop'].isna().sum()) + (pois.shape[0] - pois['tourism'].isna().sum()) \n",
    "total_keywords"
   ]
  },
  {
   "cell_type": "code",
   "execution_count": 15,
   "id": "5a8d98ee-abad-45de-b701-948010787808",
   "metadata": {},
   "outputs": [],
   "source": [
    "objs = GeoObj.get_objects_from_geopandas(pois, keyword_columns = ['amenity', 'shop', 'tourism'])"
   ]
  },
  {
   "cell_type": "code",
   "execution_count": 16,
   "id": "90f9de6f-4880-4e69-b1a2-4aa6cd3edb02",
   "metadata": {},
   "outputs": [
    {
     "data": {
      "text/plain": [
       "{'place_of_worship'}"
      ]
     },
     "execution_count": 16,
     "metadata": {},
     "output_type": "execute_result"
    }
   ],
   "source": [
    "objs[4].keywords()"
   ]
  },
  {
   "cell_type": "code",
   "execution_count": 20,
   "id": "918c2836-37c1-4ce2-b138-bcb07db68426",
   "metadata": {},
   "outputs": [
    {
     "data": {
      "text/plain": [
       "(-41.4179306, -9.253716199850455, -34.7933086, -4.544062599689478)"
      ]
     },
     "execution_count": 20,
     "metadata": {},
     "output_type": "execute_result"
    }
   ],
   "source": [
    "total_bbox = pois['lon'].min(), pois['lat'].min(), pois['lon'].max(), pois['lat'].max()\n",
    "total_bbox"
   ]
  },
  {
   "cell_type": "code",
   "execution_count": 21,
   "id": "e6870b26-281a-43a8-a944-2759af2a18b3",
   "metadata": {},
   "outputs": [],
   "source": [
    "dataset = {\n",
    "    '20%': ILQuadTree(total_bbox = total_bbox, max_depth = 3),\n",
    "    '40%': ILQuadTree(total_bbox = total_bbox, max_depth = 3),\n",
    "    '60%': ILQuadTree(total_bbox = total_bbox, max_depth = 3),\n",
    "    '80%': ILQuadTree(total_bbox = total_bbox, max_depth = 3),\n",
    "    '100%': ILQuadTree(total_bbox = total_bbox, max_depth = 3)\n",
    "}"
   ]
  },
  {
   "cell_type": "code",
   "execution_count": 22,
   "id": "8bc62f41-2e48-4adb-8480-822cd358b942",
   "metadata": {},
   "outputs": [],
   "source": [
    "for percentage in dataset:\n",
    "    proportion = float(percentage.replace('%','')) / 100.0\n",
    "    dataset[percentage].insert_elements_from_list(objs[0: int(proportion*len(objs))+1])"
   ]
  },
  {
   "cell_type": "code",
   "execution_count": 24,
   "id": "68a462a1-3b96-4f10-b4cc-b3c38ea0b64e",
   "metadata": {},
   "outputs": [
    {
     "name": "stdout",
     "output_type": "stream",
     "text": [
      "8083\n",
      "16165\n",
      "24247\n",
      "32329\n",
      "40411\n"
     ]
    }
   ],
   "source": [
    "for percentage in dataset:\n",
    "    proportion = float(percentage.replace('%','')) / 100.0\n",
    "    print(int(proportion*len(objs))+1)"
   ]
  },
  {
   "cell_type": "code",
   "execution_count": 25,
   "id": "d1335c32-325e-4c89-96c7-0c6d78ddf629",
   "metadata": {},
   "outputs": [],
   "source": [
    "def generate_pattern_from_structure(structure, candidate_keywords, qq_module, qualitative_prob, seed = None):\n",
    "    vertices_ids = []\n",
    "    for e in structure:\n",
    "        vertices_ids.extend(e)\n",
    "    vertices_ids = list(set(vertices_ids))\n",
    "    #print('total vertices:', len(vertices_ids))\n",
    "    keywords = random.sample(candidate_keywords, len(vertices_ids))\n",
    "    vertices = [ qq_module.SpatialVertex(vertices_ids[i], keywords[i]) for i in range(len(vertices_ids)) ]\n",
    "\n",
    "    edges = []\n",
    "    for i, edge in enumerate(structure):\n",
    "        lij = random.random()*1000 #choose a number between 0 and 1km\n",
    "        uij = random.random()*10000 + lij + 1#choose a number between lij and 4km\n",
    "        sign = random.choice(['<','>','<>','-'])\n",
    "        relation_type = np.random.choice([None, 'related'], size = 1, p = [1-qualitative_prob, qualitative_prob])[0]\n",
    "        if relation_type == 'related':\n",
    "            #relation = random.choice(['equals', 'touches', 'covers', 'coveredby', 'overlaps', 'disjoint'])\n",
    "            relation = random.choice(['contains', 'within', 'intersects', 'disjoint'])\n",
    "        else:\n",
    "            relation = None\n",
    "        edges.append(qq_module.SpatialEdge(i, vertices[edge[0]], vertices[edge[1]], lij, uij, sign, relation))\n",
    "    sp = qq_module.SpatialPatternGraph(vertices, edges)\n",
    "    sp.qualitative_prob = qualitative_prob\n",
    "    return sp, seed"
   ]
  },
  {
   "cell_type": "code",
   "execution_count": 31,
   "id": "13e17fc6-4f77-49e8-936a-780a71ca9581",
   "metadata": {},
   "outputs": [
    {
     "name": "stdout",
     "output_type": "stream",
     "text": [
      "Total spatial patterns: 120\n"
     ]
    }
   ],
   "source": [
    "#gerar padrões otimizados\n",
    "spatial_patterns = []\n",
    "seeds = []\n",
    "seeds_by_pattern = {}\n",
    "pattern_structures = [\n",
    "    [(0,1)], \n",
    "    [(0,1),(1,2)],\n",
    "    [(0,1),(1,2),(2,0)],\n",
    "    [(0,1),(1,2),(2,3)],\n",
    "    [(0,1),(1,2),(1,3)],\n",
    "    [(0,1),(1,2),(2,3),(3,0)],\n",
    "    [(0,1),(1,2),(2,3),(3,1)],\n",
    "    [(0,1),(1,2),(2,3),(3,1),(3,4)],\n",
    "    [(0,1),(1,2),(2,3),(3,4),(4,0)],\n",
    "    [(0,1),(1,2),(2,3),(3,4),(4,1)],\n",
    "    [(0,1),(1,2),(2,3),(3,4),(4,1),(1,5)],\n",
    "    [(0,1),(1,2),(2,3),(3,4),(4,5),(5,0),(2,5)],\n",
    "]\n",
    "\n",
    "qualitative_probs = [1/2, 1/3]\n",
    "\n",
    "for structure in pattern_structures:\n",
    "    for qualitative_prob in qualitative_probs:\n",
    "        for i in range(5):\n",
    "            sp, seed = generate_pattern_from_structure(structure, most_frequent_keywords, qq, qualitative_prob)\n",
    "            spatial_patterns.append(sp)\n",
    "            seeds.append(seed)\n",
    "            seeds_by_pattern[sp] = seed\n",
    "print('Total spatial patterns:', len(spatial_patterns))"
   ]
  },
  {
   "cell_type": "code",
   "execution_count": 34,
   "id": "22a53287",
   "metadata": {},
   "outputs": [
    {
     "name": "stdout",
     "output_type": "stream",
     "text": [
      "Computing qq-n-matches for edges\n",
      "- Total n-matches for edge 0: 99\n",
      "Computing qq-e-matches for edges\n",
      "- Computing qq-e-matches for edge 0\n",
      "- Total e-matches for edge 0: 43\n",
      "Number of skip-edges: 0\n",
      "Joining qq-e-matches\n"
     ]
    },
    {
     "data": {
      "text/plain": [
       "(43, 0.050362348556518555, 343.8984375)"
      ]
     },
     "execution_count": 34,
     "metadata": {},
     "output_type": "execute_result"
    }
   ],
   "source": [
    "solutions, elapsed_time, memory_usage = qq.QQESPM(ilq=dataset['20%'], sp=spatial_patterns[0], debug=True)\n",
    "len(solutions), elapsed_time, memory_usage"
   ]
  }
 ],
 "metadata": {
  "kernelspec": {
   "display_name": "Python 3 (ipykernel)",
   "language": "python",
   "name": "python3"
  },
  "language_info": {
   "codemirror_mode": {
    "name": "ipython",
    "version": 3
   },
   "file_extension": ".py",
   "mimetype": "text/x-python",
   "name": "python",
   "nbconvert_exporter": "python",
   "pygments_lexer": "ipython3",
   "version": "3.11.8"
  }
 },
 "nbformat": 4,
 "nbformat_minor": 5
}
